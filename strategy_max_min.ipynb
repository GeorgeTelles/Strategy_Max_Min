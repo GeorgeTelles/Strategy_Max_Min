{
  "nbformat": 4,
  "nbformat_minor": 0,
  "metadata": {
    "colab": {
      "provenance": []
    },
    "kernelspec": {
      "name": "python3",
      "display_name": "Python 3"
    },
    "language_info": {
      "name": "python"
    }
  },
  "cells": [
    {
      "cell_type": "markdown",
      "source": [
        "#1. Importando Bibliotecas"
      ],
      "metadata": {
        "id": "WeCuS1wF6CXS"
      }
    },
    {
      "cell_type": "code",
      "source": [
        "import pandas as pd\n",
        "import numpy as np\n",
        "import matplotlib.pyplot as plt\n",
        "import yfinance as yf\n",
        "import math\n",
        "import warnings\n",
        "warnings.filterwarnings('ignore')"
      ],
      "metadata": {
        "id": "5n-vqQzKJkE6"
      },
      "execution_count": null,
      "outputs": []
    },
    {
      "cell_type": "markdown",
      "source": [
        "#2. Obtendo dados"
      ],
      "metadata": {
        "id": "AKYciw9u6G88"
      }
    },
    {
      "cell_type": "code",
      "source": [
        "ticker = 'ITUB4.SA'\n",
        "start = '2020-01-01'\n",
        "df = yf.download(ticker, start)[[\"Open\", \"High\", \"Low\", \"Close\", \"Adj Close\"]]\n",
        "df"
      ],
      "metadata": {
        "id": "e13VV68M6LtK"
      },
      "execution_count": null,
      "outputs": []
    },
    {
      "cell_type": "markdown",
      "source": [
        "#3. Modelando os dados e criando colunas"
      ],
      "metadata": {
        "id": "QVKFw72v6Zqa"
      }
    },
    {
      "cell_type": "markdown",
      "source": [
        "**Vamos criar as colunas que representam as 2 ultimas maximas e minimas de cada candle, e depois criar os pontos de entrada e saida de acordo com a maior maxima ou menor minima, depois Definindo o preço de compra (Ponto de entrada) e o preço de venda (Ponto de saida)**"
      ],
      "metadata": {
        "id": "8wwGBvhZ6qgL"
      }
    },
    {
      "cell_type": "code",
      "source": [
        "df[\"Target1\"] = df[\"High\"].shift(1)\n",
        "df[\"Target2\"] = df[\"High\"].shift(2)\n",
        "df[\"Target\"] = df[[\"Target1\", \"Target2\"]].max(axis=1)\n",
        "\n",
        "# We don't need them anymore\n",
        "df.drop(columns=[\"Target1\", \"Target2\"], inplace=True)\n",
        "\n",
        "df[\"Entry1\"] = df[\"Low\"].shift(1)\n",
        "df[\"Entry2\"] = df[\"Low\"].shift(2)\n",
        "df[\"Entry\"] = df[[\"Entry1\", \"Entry2\"]].min(axis=1)\n",
        "\n",
        "# We don't need them anymore\n",
        "df.drop(columns=[\"Entry1\", \"Entry2\"], inplace=True)\n",
        "\n",
        "# Define exact buy price\n",
        "df['Buy Price'] = np.where(\n",
        "    df[\"Low\"] < df['Entry'],\n",
        "    np.where((df['Open'] < df['Entry']), df['Open'], df['Entry']),\n",
        "    np.nan)\n",
        "\n",
        "# Define exact sell price\n",
        "df['Sell Price'] = np.where(\n",
        "    df[\"High\"] > df['Target'],\n",
        "    np.where(df['Open'] > df['Target'], df['Open'], df['Target']),\n",
        "    np.nan)\n"
      ],
      "metadata": {
        "id": "dcjF4hDG6bhK"
      },
      "execution_count": null,
      "outputs": []
    },
    {
      "cell_type": "markdown",
      "source": [
        "**Função para calcular o lote da ação**"
      ],
      "metadata": {
        "id": "TG3ZCJxz86uy"
      }
    },
    {
      "cell_type": "code",
      "source": [
        "# Create a function to round any number to the smalles multiple of 100\n",
        "def round_down(x):\n",
        "  return int(math.floor(x / 100.0)) * 100"
      ],
      "metadata": {
        "id": "Prj6X90GISvr"
      },
      "execution_count": null,
      "outputs": []
    },
    {
      "cell_type": "markdown",
      "source": [
        "**Definindo a coluna que vai informar se estamos em um operação ou não: ongoing**"
      ],
      "metadata": {
        "id": "708JAF6m8Mna"
      }
    },
    {
      "cell_type": "code",
      "source": [
        "# Define control variable for ongoing operations\n",
        "ongoing = False\n",
        "\n",
        "for i in range(len(df)):\n",
        "\n",
        "    # If there is an ongoing operation, check if we reached the target price\n",
        "    if ongoing:\n",
        "        if not np.isnan(df.iloc[i]['Sell Price']):\n",
        "            exit = df.iloc[i]['Sell Price']\n",
        "            ongoing = False\n",
        "\n",
        "    # If there is no ongoing operation, check if the entry price was achieved\n",
        "    else:\n",
        "        if not np.isnan(df.iloc[i]['Buy Price']):\n",
        "            entry = df.iloc[i]['Buy Price']\n",
        "            ongoing = True\n",
        "\n"
      ],
      "metadata": {
        "id": "ZRzy0jWY8QNx"
      },
      "execution_count": null,
      "outputs": []
    },
    {
      "cell_type": "markdown",
      "source": [
        "#4. Backtesting"
      ],
      "metadata": {
        "id": "vLYC0vP58zIJ"
      }
    },
    {
      "cell_type": "code",
      "source": [
        "# Define backtest parameters\n",
        "initial_capital = 10000\n",
        "max_days = 3 # add stop in time\n",
        "\n",
        "# Control variables\n",
        "total_capital = [initial_capital] # list with the total capital after every operation\n",
        "all_profits = [] # list with profits for every operation\n",
        "all_percent_profits = []\n",
        "all_buy_dates = []  # Lista para armazenar as datas de compra\n",
        "all_sell_dates = []  # Lista para armazenar as datas de venda\n",
        "days_in_operation = 0\n",
        "gains_total_days = 0\n",
        "gains_total_operations = 0\n",
        "losses_total_days = 0\n",
        "losses_total_operations = 0\n",
        "ongoing = False"
      ],
      "metadata": {
        "id": "2AFgEYKZ895K"
      },
      "execution_count": null,
      "outputs": []
    },
    {
      "cell_type": "code",
      "source": [
        "for i in range(len(df)):\n",
        "    if ongoing:\n",
        "        days_in_operation += 1\n",
        "\n",
        "        # If any of the following conditions are met, the operation will end\n",
        "        if days_in_operation == max_days or not np.isnan(df.iloc[i]['Sell Price']):\n",
        "            # Define exit point and total profit\n",
        "            exit = df.iloc[i]['Sell Price'] if not np.isnan(df.iloc[i]['Sell Price']) else df.iloc[i]['Close']\n",
        "            profit = shares * (exit - entry)\n",
        "            percent_profit = (exit - entry) / entry * 100  # Calculate percentage profit\n",
        "\n",
        "            # Append profit and percent profit to lists\n",
        "            all_profits.append(profit)\n",
        "            all_percent_profits.append(percent_profit)\n",
        "            current_capital = total_capital[-1]\n",
        "            total_capital.append(current_capital + profit)\n",
        "\n",
        "            # Store the dates of the buy and sell operations\n",
        "            all_sell_dates.append(df.index[i])\n",
        "            if all_buy_dates:\n",
        "                buy_date = all_buy_dates.pop()  # Remove the most recent buy date\n",
        "                # print(f\"Operation: Buy on {buy_date} at {entry:.2f}, Sell on {df.index[i]} at {exit:.2f}, Profit: ${profit:.2f}, Percent Profit: {percent_profit:.2f}%\")\n",
        "\n",
        "            # Update gains and losses totals\n",
        "            if profit > 0:\n",
        "                gains_total_days += days_in_operation\n",
        "                gains_total_operations += 1\n",
        "            else:\n",
        "                losses_total_days += days_in_operation\n",
        "                losses_total_operations += 1\n",
        "\n",
        "            ongoing = False\n",
        "    else:\n",
        "        if not np.isnan(df.iloc[i]['Buy Price']):\n",
        "            entry = df.iloc[i]['Buy Price']\n",
        "            shares = round_down(initial_capital / entry)\n",
        "            days_in_operation = 0\n",
        "            ongoing = True\n",
        "\n",
        "            # Store the date of the buy operation\n",
        "            all_buy_dates.append(df.index[i])"
      ],
      "metadata": {
        "id": "H4gUjzofCzej"
      },
      "execution_count": null,
      "outputs": []
    },
    {
      "cell_type": "markdown",
      "source": [
        "**Função para calcular os lucros**"
      ],
      "metadata": {
        "id": "dAkjfnvh9VyK"
      }
    },
    {
      "cell_type": "code",
      "source": [
        "def strategy_test(all_profits):\n",
        "  num_operations = len(all_profits)\n",
        "  gains = sum(x >= 0 for x in all_profits)\n",
        "  pct_gains = 100 * (gains / num_operations)\n",
        "  losses = num_operations - gains\n",
        "  pct_losses = 100 - pct_gains\n",
        "  hold_resul, percent_hold_resul = df['Adj Close'].iloc[-1] - df['Adj Close'].iloc[0], (df['Adj Close'].iloc[-1] - df['Adj Close'].iloc[0]) / df['Adj Close'].iloc[0] * 100\n",
        "  total_days = gains_total_days + losses_total_days\n",
        "  total_operations = gains_total_operations + losses_total_operations\n",
        "\n",
        "  print(\"Number of operations =\", num_operations)\n",
        "  print(\"Number of gains =\", gains, \"or\", pct_gains.round(), \"%\")\n",
        "  print(\"Number of loss =\", losses, \"or\", pct_losses.round(), \"%\")\n",
        "  print(\"The total profit was = R$\", sum(all_profits), \"or\", sum(all_percent_profits),\"%\")\n",
        "  print(f\"O resultado Holding foi de {percent_hold_resul}%\")\n",
        "  print(\"Average length of operations (in days)\", total_days / total_operations)\n",
        "  print(\"Average length of gains (in days)\", gains_total_days / gains_total_operations)\n",
        "  print(\"Average length of losses (in days)\", losses_total_days / losses_total_operations)"
      ],
      "metadata": {
        "id": "totmJQ5s9VXS"
      },
      "execution_count": null,
      "outputs": []
    },
    {
      "cell_type": "markdown",
      "source": [
        "#5. Resultados"
      ],
      "metadata": {
        "id": "21YgQaMtQGyC"
      }
    },
    {
      "cell_type": "code",
      "source": [
        "strategy_test(all_profits)"
      ],
      "metadata": {
        "id": "wPJG-1GB9niy"
      },
      "execution_count": null,
      "outputs": []
    },
    {
      "cell_type": "code",
      "source": [
        "def capital_plot(total_capital, all_profits):\n",
        "  all_profits = [0] + all_profits # make sure both lists are the same size\n",
        "  cap_evolution = pd.DataFrame({'Capital': total_capital, 'Profit': all_profits})\n",
        "  plt.title(\"Curva de Capital\")\n",
        "  plt.xlabel(\"Total Operações\")\n",
        "  cap_evolution['Capital'].plot()\n",
        "  plt.show()\n",
        "\n",
        "capital_plot(total_capital, all_profits)"
      ],
      "metadata": {
        "id": "XeTH_rN-CMbc"
      },
      "execution_count": null,
      "outputs": []
    }
  ]
}